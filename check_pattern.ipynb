{
 "cells": [
  {
   "cell_type": "code",
   "execution_count": null,
   "metadata": {},
   "outputs": [],
   "source": [
    "chip = '[]{[(([]))]}'\n",
    "\n",
    "s = '[]{[(h+1(9hg7[543])gfd)3fdsed]}'\n",
    "\n",
    "def check_pattern(s):\n",
    "    pattern = '[]{[(([]))]}'\n",
    "    elements= ['[',']','{','}','(',')']\n",
    "    characters= [x for x in s if x in elements]\n",
    "    new= ''.join(characters)\n",
    "    if pattern == new:\n",
    "        return(True)\n",
    "    else:\n",
    "        return(False)\n",
    "    \n",
    "check_pattern(s)"
   ]
  }
 ],
 "metadata": {
  "kernelspec": {
   "display_name": "Python 3",
   "language": "python",
   "name": "python3"
  },
  "language_info": {
   "codemirror_mode": {
    "name": "ipython",
    "version": 3
   },
   "file_extension": ".py",
   "mimetype": "text/x-python",
   "name": "python",
   "nbconvert_exporter": "python",
   "pygments_lexer": "ipython3",
   "version": "3.8.5"
  }
 },
 "nbformat": 4,
 "nbformat_minor": 4
}
