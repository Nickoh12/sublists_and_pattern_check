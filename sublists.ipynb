{
 "cells": [
  {
   "cell_type": "code",
   "execution_count": 49,
   "metadata": {
    "scrolled": false
   },
   "outputs": [
    {
     "name": "stdout",
     "output_type": "stream",
     "text": [
      "[[1, 1, 2, 3], [4]]\n"
     ]
    }
   ],
   "source": [
    "l = [1,4,3,2,1]\n",
    "\n",
    "def sublists(l,out,k):\n",
    "    \n",
    "    # l is the list of integers to be sorted \n",
    "    # out is an empty list where the sorted list will be stored \n",
    "    # k is the number of steps the list can be away \n",
    "    \n",
    "    new_l= [x for x in sorted(l) if (abs(min(l)-x)) <= k]\n",
    "    l=[x for x in l if x not in new_l]\n",
    "    out.append(new_l)\n",
    "    if len(l) > 0 and (max(l)-min(l)) >k:\n",
    "        sublists(l,out,k)\n",
    "    else:\n",
    "        out.append(l)\n",
    "        if len(out[len(out)-1]) >0:\n",
    "            print (out)\n",
    "        else:\n",
    "            print(out[:-1])\n",
    "\n",
    "        \n",
    "out= []\n",
    "\n",
    "sublists(l, out,2)"
   ]
  },
  {
   "cell_type": "markdown",
   "metadata": {},
   "source": [
    "I believe that the time complexity of this algorithm is O(n^2+n) which can be expressed as O(n^2) since for higher numbers the linear term does not matter that much anymore. "
   ]
  }
 ],
 "metadata": {
  "kernelspec": {
   "display_name": "Python 3",
   "language": "python",
   "name": "python3"
  },
  "language_info": {
   "codemirror_mode": {
    "name": "ipython",
    "version": 3
   },
   "file_extension": ".py",
   "mimetype": "text/x-python",
   "name": "python",
   "nbconvert_exporter": "python",
   "pygments_lexer": "ipython3",
   "version": "3.8.5"
  }
 },
 "nbformat": 4,
 "nbformat_minor": 4
}
